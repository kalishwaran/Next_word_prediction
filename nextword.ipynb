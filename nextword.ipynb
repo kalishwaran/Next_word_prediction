{
 "cells": [
  {
   "cell_type": "markdown",
   "id": "0082191c",
   "metadata": {},
   "source": [
    "# Step 1: Import libraries\n"
   ]
  },
  {
   "cell_type": "code",
   "execution_count": 1,
   "id": "d35a73d8",
   "metadata": {},
   "outputs": [],
   "source": [
    "import tensorflow as tf\n",
    "from tensorflow.keras.preprocessing.text import Tokenizer\n",
    "from tensorflow.keras.layers import Embedding, LSTM, Dense\n",
    "from tensorflow.keras.models import Sequential\n",
    "from tensorflow.keras.utils import to_categorical\n",
    "from tensorflow.keras.optimizers import Adam\n",
    "import pickle\n",
    "import numpy as np\n",
    "import os\n",
    "import pandas as pd"
   ]
  },
  {
   "cell_type": "markdown",
   "id": "927c2e7f",
   "metadata": {},
   "source": [
    "# Step 2: Open and pre-process the data"
   ]
  },
  {
   "cell_type": "code",
   "execution_count": 2,
   "id": "8f79af09",
   "metadata": {},
   "outputs": [
    {
     "data": {
      "text/plain": [
       "'The Project Gutenberg eBook of Frankenstein; Or, The Modern Prometheus This ebook is for the use of anyone anywhere in the United States and most other parts of the world at no cost and with almost no restrictions whatsoever. You may copy it, give it away or re-use it under the terms of the Project Gutenberg License included with this ebook or online at www.gutenberg.org. If you are not located in the United States, you will have to check the laws of the country where you are located before usin'"
      ]
     },
     "execution_count": 2,
     "metadata": {},
     "output_type": "execute_result"
    }
   ],
   "source": [
    "file = open(\"Frankenstein.txt\", \"r\", encoding = \"utf8\")\n",
    " \n",
    "# store file in list\n",
    "lines = []\n",
    "for i in file:\n",
    "    lines.append(i)\n",
    " \n",
    "# Convert list to string\n",
    "data = \"\"\n",
    "for i in lines:\n",
    "  data = ' '. join(lines) \n",
    " \n",
    "#replace unnecessary stuff with space\n",
    "data = data.replace('\\n', '').replace('\\r', '').replace('\\ufeff', '').replace('“','').replace('”','')  #new line, carriage return, unicode character --> replace by space\n",
    " \n",
    "#remove unnecessary spaces \n",
    "data = data.split()\n",
    "data = ' '.join(data)\n",
    "data[:500]"
   ]
  },
  {
   "cell_type": "code",
   "execution_count": 3,
   "id": "a5e586d4",
   "metadata": {},
   "outputs": [
    {
     "data": {
      "text/plain": [
       "436625"
      ]
     },
     "execution_count": 3,
     "metadata": {},
     "output_type": "execute_result"
    }
   ],
   "source": [
    "len(data)"
   ]
  },
  {
   "cell_type": "markdown",
   "id": "fa4afba6",
   "metadata": {},
   "source": [
    "# Step 4: Implement tokenization and make additional adjustments"
   ]
  },
  {
   "cell_type": "code",
   "execution_count": 4,
   "id": "28ee385c",
   "metadata": {},
   "outputs": [
    {
     "data": {
      "text/plain": [
       "[1, 98, 199, 683, 4, 301, 35, 1, 601, 1617, 25, 683, 31, 22, 1]"
      ]
     },
     "execution_count": 4,
     "metadata": {},
     "output_type": "execute_result"
    }
   ],
   "source": [
    "tokenizer = Tokenizer()\n",
    "tokenizer.fit_on_texts([data])\n",
    " \n",
    "# saving the tokenizer for predict function\n",
    "pickle.dump(tokenizer, open('token.pkl', 'wb'))\n",
    " \n",
    "sequence_data = tokenizer.texts_to_sequences([data])[0]\n",
    "sequence_data[:15]"
   ]
  },
  {
   "cell_type": "code",
   "execution_count": 5,
   "id": "c20a4be7",
   "metadata": {},
   "outputs": [
    {
     "data": {
      "text/plain": [
       "78382"
      ]
     },
     "execution_count": 5,
     "metadata": {},
     "output_type": "execute_result"
    }
   ],
   "source": [
    "len(sequence_data)"
   ]
  },
  {
   "cell_type": "code",
   "execution_count": 6,
   "id": "fc965b3b",
   "metadata": {},
   "outputs": [
    {
     "name": "stdout",
     "output_type": "stream",
     "text": [
      "7492\n"
     ]
    }
   ],
   "source": [
    "vocab_size = len(tokenizer.word_index) + 1\n",
    "print(vocab_size)"
   ]
  },
  {
   "cell_type": "code",
   "execution_count": 7,
   "id": "f5c6b4e3",
   "metadata": {},
   "outputs": [
    {
     "name": "stdout",
     "output_type": "stream",
     "text": [
      "The Length of sequences are:  78379\n"
     ]
    },
    {
     "data": {
      "text/plain": [
       "array([[   1,   98,  199,  683],\n",
       "       [  98,  199,  683,    4],\n",
       "       [ 199,  683,    4,  301],\n",
       "       [ 683,    4,  301,   35],\n",
       "       [   4,  301,   35,    1],\n",
       "       [ 301,   35,    1,  601],\n",
       "       [  35,    1,  601, 1617],\n",
       "       [   1,  601, 1617,   25],\n",
       "       [ 601, 1617,   25,  683],\n",
       "       [1617,   25,  683,   31]])"
      ]
     },
     "execution_count": 7,
     "metadata": {},
     "output_type": "execute_result"
    }
   ],
   "source": [
    "sequences = []\n",
    " \n",
    "for i in range(3, len(sequence_data)):\n",
    "    words = sequence_data[i-3:i+1]\n",
    "    sequences.append(words)\n",
    "print(\"The Length of sequences are: \", len(sequences))\n",
    "sequences = np.array(sequences)\n",
    "sequences[:10]    "
   ]
  },
  {
   "cell_type": "code",
   "execution_count": 8,
   "id": "a274144e",
   "metadata": {},
   "outputs": [],
   "source": [
    "X = []\n",
    "y = []\n",
    " \n",
    "for i in sequences:\n",
    "    X.append(i[0:3])\n",
    "    y.append(i[3])\n",
    "     \n",
    "X = np.array(X)\n",
    "y = np.array(y)"
   ]
  },
  {
   "cell_type": "code",
   "execution_count": 9,
   "id": "5a727930",
   "metadata": {},
   "outputs": [
    {
     "name": "stdout",
     "output_type": "stream",
     "text": [
      "Data:  [[   1   98  199]\n",
      " [  98  199  683]\n",
      " [ 199  683    4]\n",
      " [ 683    4  301]\n",
      " [   4  301   35]\n",
      " [ 301   35    1]\n",
      " [  35    1  601]\n",
      " [   1  601 1617]\n",
      " [ 601 1617   25]\n",
      " [1617   25  683]]\n",
      "Response:  [ 683    4  301   35    1  601 1617   25  683   31]\n"
     ]
    }
   ],
   "source": [
    "print(\"Data: \", X[:10])\n",
    "print(\"Response: \", y[:10])"
   ]
  },
  {
   "cell_type": "code",
   "execution_count": 10,
   "id": "186b0be5",
   "metadata": {},
   "outputs": [
    {
     "data": {
      "text/plain": [
       "array([[0., 0., 0., ..., 0., 0., 0.],\n",
       "       [0., 0., 0., ..., 0., 0., 0.],\n",
       "       [0., 0., 0., ..., 0., 0., 0.],\n",
       "       [0., 0., 0., ..., 0., 0., 0.],\n",
       "       [0., 1., 0., ..., 0., 0., 0.]], dtype=float32)"
      ]
     },
     "execution_count": 10,
     "metadata": {},
     "output_type": "execute_result"
    }
   ],
   "source": [
    "y = to_categorical(y, num_classes=vocab_size)\n",
    "y[:5]"
   ]
  },
  {
   "cell_type": "markdown",
   "id": "aeb0c1e9",
   "metadata": {},
   "source": [
    "# Step 4: Creating the model"
   ]
  },
  {
   "cell_type": "code",
   "execution_count": 11,
   "id": "43dc7aab",
   "metadata": {},
   "outputs": [],
   "source": [
    "model = Sequential()\n",
    "model.add(Embedding(vocab_size, 10, input_length=3))\n",
    "model.add(LSTM(100, return_sequences=True))\n",
    "model.add(LSTM(100))\n",
    "model.add(Dense(100, activation=\"relu\"))\n",
    "model.add(Dense(vocab_size, activation=\"softmax\"))\n"
   ]
  },
  {
   "cell_type": "code",
   "execution_count": 12,
   "id": "a51e24c8",
   "metadata": {},
   "outputs": [
    {
     "name": "stdout",
     "output_type": "stream",
     "text": [
      "Model: \"sequential\"\n",
      "_________________________________________________________________\n",
      " Layer (type)                Output Shape              Param #   \n",
      "=================================================================\n",
      " embedding (Embedding)       (None, 3, 10)             74920     \n",
      "                                                                 \n",
      " lstm (LSTM)                 (None, 3, 100)            44400     \n",
      "                                                                 \n",
      " lstm_1 (LSTM)               (None, 100)               80400     \n",
      "                                                                 \n",
      " dense (Dense)               (None, 100)               10100     \n",
      "                                                                 \n",
      " dense_1 (Dense)             (None, 7492)              756692    \n",
      "                                                                 \n",
      "=================================================================\n",
      "Total params: 966,512\n",
      "Trainable params: 966,512\n",
      "Non-trainable params: 0\n",
      "_________________________________________________________________\n"
     ]
    }
   ],
   "source": [
    "model.summary()"
   ]
  },
  {
   "cell_type": "markdown",
   "id": "e356828f",
   "metadata": {},
   "source": [
    "# Step 5: Plot the model"
   ]
  },
  {
   "cell_type": "code",
   "execution_count": 13,
   "id": "171c4d2b",
   "metadata": {},
   "outputs": [
    {
     "data": {
      "image/png": "[encoded data removed]",
      "text/plain": [
       "<IPython.core.display.Image object>"
      ]
     },
     "execution_count": 13,
     "metadata": {},
     "output_type": "execute_result"
    }
   ],
   "source": [
    "from tensorflow import keras\n",
    "from keras.utils.vis_utils import plot_model\n",
    " \n",
    "keras.utils.plot_model(model, to_file='plot.png', show_layer_names=True)"
   ]
  },
  {
   "cell_type": "markdown",
   "id": "408e2236",
   "metadata": {},
   "source": [
    "# Step 6: Train the model"
   ]
  },
  {
   "cell_type": "code",
   "execution_count": 14,
   "id": "fb0306d7",
   "metadata": {},
   "outputs": [
    {
     "name": "stdout",
     "output_type": "stream",
     "text": [
      "Epoch 1/10\n",
      "5224/5226 [============================>.] - ETA: 0s - loss: 6.6018\n",
      "Epoch 1: loss improved from inf to 6.60177, saving model to next_words.h5\n",
      "5226/5226 [==============================] - 112s 19ms/step - loss: 6.6018\n",
      "Epoch 2/10\n",
      "5225/5226 [============================>.] - ETA: 0s - loss: 6.1523\n",
      "Epoch 2: loss improved from 6.60177 to 6.15213, saving model to next_words.h5\n",
      "5226/5226 [==============================] - 100s 19ms/step - loss: 6.1521\n",
      "Epoch 3/10\n",
      "5226/5226 [==============================] - ETA: 0s - loss: 5.8557\n",
      "Epoch 3: loss improved from 6.15213 to 5.85566, saving model to next_words.h5\n",
      "5226/5226 [==============================] - 98s 19ms/step - loss: 5.8557\n",
      "Epoch 4/10\n",
      "5224/5226 [============================>.] - ETA: 0s - loss: 5.5793\n",
      "Epoch 4: loss improved from 5.85566 to 5.57948, saving model to next_words.h5\n",
      "5226/5226 [==============================] - 101s 19ms/step - loss: 5.5795\n",
      "Epoch 5/10\n",
      "5224/5226 [============================>.] - ETA: 0s - loss: 5.3596\n",
      "Epoch 5: loss improved from 5.57948 to 5.35948, saving model to next_words.h5\n",
      "5226/5226 [==============================] - 103s 20ms/step - loss: 5.3595\n",
      "Epoch 6/10\n",
      "5225/5226 [============================>.] - ETA: 0s - loss: 5.1789\n",
      "Epoch 6: loss improved from 5.35948 to 5.17886, saving model to next_words.h5\n",
      "5226/5226 [==============================] - 101s 19ms/step - loss: 5.1789\n",
      "Epoch 7/10\n",
      "5225/5226 [============================>.] - ETA: 0s - loss: 5.0157\n",
      "Epoch 7: loss improved from 5.17886 to 5.01573, saving model to next_words.h5\n",
      "5226/5226 [==============================] - 102s 19ms/step - loss: 5.0157\n",
      "Epoch 8/10\n",
      "5226/5226 [==============================] - ETA: 0s - loss: 4.8655\n",
      "Epoch 8: loss improved from 5.01573 to 4.86546, saving model to next_words.h5\n",
      "5226/5226 [==============================] - 102s 20ms/step - loss: 4.8655\n",
      "Epoch 9/10\n",
      "5226/5226 [==============================] - ETA: 0s - loss: 4.7226\n",
      "Epoch 9: loss improved from 4.86546 to 4.72258, saving model to next_words.h5\n",
      "5226/5226 [==============================] - 290s 56ms/step - loss: 4.7226\n",
      "Epoch 10/10\n",
      "5225/5226 [============================>.] - ETA: 0s - loss: 4.5891\n",
      "Epoch 10: loss improved from 4.72258 to 4.58914, saving model to next_words.h5\n",
      "5226/5226 [==============================] - 101s 19ms/step - loss: 4.5891\n"
     ]
    },
    {
     "data": {
      "text/plain": [
       "<keras.callbacks.History at 0x1ae082efd48>"
      ]
     },
     "execution_count": 14,
     "metadata": {},
     "output_type": "execute_result"
    }
   ],
   "source": [
    "from tensorflow.keras.callbacks import ModelCheckpoint\n",
    " \n",
    "checkpoint = ModelCheckpoint(\"next_words.h5\", monitor='loss', verbose=1, save_best_only=True)\n",
    "model.compile(loss=\"categorical_crossentropy\", optimizer=Adam(learning_rate=0.001))\n",
    "model.fit(X, y, epochs=10, batch_size=15, callbacks=[checkpoint])"
   ]
  },
  {
   "cell_type": "code",
   "execution_count": 15,
   "id": "eb25ae42",
   "metadata": {},
   "outputs": [],
   "source": [
    "from tensorflow.keras.models import load_model\n",
    "import numpy as np\n",
    "import pickle\n",
    " \n",
    "# Load the model and tokenizer\n",
    "model = load_model('next_words.h5')\n",
    "tokenizer = pickle.load(open('token.pkl', 'rb'))\n",
    " \n",
    "def Predict_Next_Words(model, tokenizer, text):\n",
    " \n",
    "  sequence = tokenizer.texts_to_sequences([text])\n",
    "  sequence = np.array(sequence)\n",
    "  preds = np.argmax(model.predict(sequence))\n",
    "  predicted_word = \"\"\n",
    "   \n",
    "  for key, value in tokenizer.word_index.items():\n",
    "      if value == preds:\n",
    "          predicted_word = key\n",
    "          break\n",
    "   \n",
    "  print(predicted_word)\n",
    "  return predicted_word"
   ]
  },
  {
   "cell_type": "code",
   "execution_count": null,
   "id": "12a7e567",
   "metadata": {},
   "outputs": [
    {
     "name": "stdout",
     "output_type": "stream",
     "text": [
      "Enter your line:  the North Pacific\n",
      "['the', 'North', 'Pacific']\n",
      "1/1 [==============================] - 3s 3s/step\n",
      "of\n",
      "Enter your line: them increased that\n",
      "['them', 'increased', 'that']\n",
      "1/1 [==============================] - 0s 64ms/step\n",
      "i\n",
      "Enter your line:  which I dedicated\n",
      "['which', 'I', 'dedicated']\n",
      "1/1 [==============================] - 0s 79ms/step\n",
      "myself\n",
      "Enter your line: my captain offered\n",
      "['my', 'captain', 'offered']\n",
      "1/1 [==============================] - 0s 48ms/step\n",
      "me\n"
     ]
    }
   ],
   "source": [
    "while(True):\n",
    "  text = input(\"Enter your line: \")\n",
    "   \n",
    "  if text == \"0\":\n",
    "      print(\"Execution completed.....\")\n",
    "      break\n",
    "   \n",
    "  else:\n",
    "      try:\n",
    "          text = text.split(\" \")\n",
    "          text = text[-3:]\n",
    "          print(text)\n",
    "         \n",
    "          Predict_Next_Words(model, tokenizer, text)\n",
    "           \n",
    "      except Exception as e:\n",
    "        print(\"Error occurred: \",e)\n",
    "        continue"
   ]
  },
  {
   "cell_type": "code",
   "execution_count": null,
   "id": "620590aa",
   "metadata": {},
   "outputs": [],
   "source": []
  }
 ],
 "metadata": {
  "kernelspec": {
   "display_name": "Python 3 (ipykernel)",
   "language": "python",
   "name": "python3"
  },
  "language_info": {
   "codemirror_mode": {
    "name": "ipython",
    "version": 3
   },
   "file_extension": ".py",
   "mimetype": "text/x-python",
   "name": "python",
   "nbconvert_exporter": "python",
   "pygments_lexer": "ipython3",
   "version": "3.7.16"
  }
 },
 "nbformat": 4,
 "nbformat_minor": 5
}
